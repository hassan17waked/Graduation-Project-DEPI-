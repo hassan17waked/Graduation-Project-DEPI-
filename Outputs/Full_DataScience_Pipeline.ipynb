{
 "cells": [
  {
   "cell_type": "markdown",
   "id": "8f9d1168",
   "metadata": {},
   "source": [
    "# 01. 📦 Import Libraries & Utilities\n",
    "\n",
    "\"\"\"\n",
    "This section imports all required libraries including custom utilities (MyLibrary), \n",
    "data handling tools (Pandas, NumPy), machine learning tools (scikit-learn, XGBoost), \n",
    "and utilities for visualization, saving models, and statistical analysis.\n",
    "\"\"\""
   ]
  },
  {
   "cell_type": "code",
   "execution_count": null,
   "id": "2aa601e2",
   "metadata": {},
   "outputs": [],
   "source": [
    "import MyLibrary as lib\n",
    "import pandas as pd\n",
    "import numpy as np\n",
    "import matplotlib.pyplot as plt\n",
    "import seaborn as sns\n",
    "from sklearn.model_selection import train_test_split, GridSearchCV, RandomizedSearchCV\n",
    "from sklearn.preprocessing import StandardScaler\n",
    "from sklearn.metrics import accuracy_score, recall_score, precision_score, roc_auc_score, roc_curve, classification_report, confusion_matrix\n",
    "from imblearn.over_sampling import SMOTE\n",
    "from xgboost import XGBClassifier\n",
    "import scipy.stats as stats\n",
    "import datetime\n",
    "import joblib"
   ]
  },
  {
   "cell_type": "markdown",
   "id": "2b8c16ff",
   "metadata": {},
   "source": [
    "# 02. 📊 Load & Explore Data\n",
    "\n",
    "\"\"\"\n",
    "Load the dataset using the custom readfile function and explore it using another custom function.\n",
    "\"\"\""
   ]
  },
  {
   "cell_type": "code",
   "execution_count": null,
   "id": "7e2703da",
   "metadata": {},
   "outputs": [],
   "source": [
    "data = lib.readfile(\"../Data/bankcustomer.csv\")\n",
    "lib.DataExploration(data)"
   ]
  },
  {
   "cell_type": "markdown",
   "id": "733add0c",
   "metadata": {},
   "source": [
    "# 03. 🧼 Data Cleaning & Preprocessing\n",
    "\n",
    "\"\"\"\n",
    "Split the dataset into features and labels, handle missing values if any, and apply standard scaling.\n",
    "\"\"\""
   ]
  },
  {
   "cell_type": "code",
   "execution_count": null,
   "id": "be16b0ed",
   "metadata": {},
   "outputs": [],
   "source": [
    "X = data.drop(\"Exited\", axis=1)\n",
    "y = data[\"Exited\"]\n",
    "\n",
    "# Split into training and testing sets\n",
    "X_train, X_test, y_train, y_test = train_test_split(X, y, test_size=0.2, random_state=42, stratify=y)\n",
    "\n",
    "# Apply Standard Scaler\n",
    "scaler = StandardScaler()\n",
    "X_train_scaled = scaler.fit_transform(X_train)\n",
    "X_test_scaled = scaler.transform(X_test)"
   ]
  },
  {
   "cell_type": "markdown",
   "id": "57583a4e",
   "metadata": {},
   "source": [
    "# 04. ⚖️ Handle Imbalanced Data with SMOTE\n",
    "\n",
    "\"\"\"\n",
    "Apply SMOTE to oversample the minority class in the training set.\n",
    "\"\"\""
   ]
  },
  {
   "cell_type": "code",
   "execution_count": null,
   "id": "e2961fd4",
   "metadata": {},
   "outputs": [],
   "source": [
    "smote = SMOTE(random_state=42)\n",
    "X_resampled, y_resampled = smote.fit_resample(X_train_scaled, y_train)"
   ]
  },
  {
   "cell_type": "markdown",
   "id": "a8cb5f36",
   "metadata": {},
   "source": [
    "# 05. 🤖 Model Training (XGBoost)\n",
    "\n",
    "\"\"\"\n",
    "Train an XGBoost classifier on the resampled data.\n",
    "\"\"\""
   ]
  },
  {
   "cell_type": "code",
   "execution_count": null,
   "id": "392a1833",
   "metadata": {},
   "outputs": [],
   "source": [
    "model = XGBClassifier(use_label_encoder=False, eval_metric='logloss', random_state=42)\n",
    "model.fit(X_resampled, y_resampled)"
   ]
  },
  {
   "cell_type": "markdown",
   "id": "0a98b3fe",
   "metadata": {},
   "source": [
    "# 06. 📏 Initial Evaluation\n",
    "\n",
    "\"\"\"\n",
    "Evaluate model performance using recall, precision, accuracy, ROC AUC, and a confusion matrix.\n",
    "\"\"\""
   ]
  },
  {
   "cell_type": "code",
   "execution_count": null,
   "id": "c5be6e48",
   "metadata": {},
   "outputs": [],
   "source": [
    "y_pred = model.predict(X_test_scaled)\n",
    "\n",
    "print(\"Classification Report:\\n\", classification_report(y_test, y_pred))\n",
    "print(\"Confusion Matrix:\\n\", confusion_matrix(y_test, y_pred))\n",
    "print(\"Accuracy:\", accuracy_score(y_test, y_pred))\n",
    "print(\"Recall:\", recall_score(y_test, y_pred))\n",
    "print(\"ROC AUC:\", roc_auc_score(y_test, y_pred))"
   ]
  },
  {
   "cell_type": "markdown",
   "id": "d8916fb8",
   "metadata": {},
   "source": [
    "# 07. 🔍 Hyperparameter Tuning\n",
    "\n",
    "\"\"\"\n",
    "Use RandomizedSearchCV to find the best hyperparameters for the XGBoost classifier.\n",
    "\"\"\""
   ]
  },
  {
   "cell_type": "code",
   "execution_count": null,
   "id": "1e9bf47e",
   "metadata": {},
   "outputs": [],
   "source": [
    "param_grid = {\n",
    "    'n_estimators': [100, 200],\n",
    "    'max_depth': [3, 5, 7],\n",
    "    'learning_rate': [0.01, 0.1, 0.2],\n",
    "    'subsample': [0.6, 0.8, 1.0]\n",
    "}\n",
    "\n",
    "search = RandomizedSearchCV(XGBClassifier(use_label_encoder=False, eval_metric='logloss', random_state=42),\n",
    "                            param_distributions=param_grid, n_iter=10, scoring='recall', cv=3, random_state=42, n_jobs=-1)\n",
    "search.fit(X_resampled, y_resampled)\n",
    "print(\"Best Parameters:\", search.best_params_)\n",
    "\n",
    "best_model = search.best_estimator_"
   ]
  },
  {
   "cell_type": "markdown",
   "id": "1beb5d48",
   "metadata": {},
   "source": [
    "# 08. 🧪 Final Evaluation\n",
    "\n",
    "\"\"\"\n",
    "Evaluate the best-tuned model on the test set.\n",
    "\"\"\""
   ]
  },
  {
   "cell_type": "code",
   "execution_count": null,
   "id": "66f5c81d",
   "metadata": {},
   "outputs": [],
   "source": [
    "y_final_pred = best_model.predict(X_test_scaled)\n",
    "\n",
    "print(\"Final Classification Report:\\n\", classification_report(y_test, y_final_pred))\n",
    "print(\"Final Confusion Matrix:\\n\", confusion_matrix(y_test, y_final_pred))\n",
    "print(\"Final Accuracy:\", accuracy_score(y_test, y_final_pred))\n",
    "print(\"Final Recall:\", recall_score(y_test, y_final_pred))\n",
    "print(\"Final ROC AUC:\", roc_auc_score(y_test, y_final_pred))"
   ]
  },
  {
   "cell_type": "markdown",
   "id": "2a07b3e3",
   "metadata": {},
   "source": [
    "# 09. 💾 Save the Final Model\n",
    "\n",
    "\"\"\"\n",
    "Save the trained model and scaler for future inference.\n",
    "\"\"\""
   ]
  },
  {
   "cell_type": "code",
   "execution_count": null,
   "id": "63149217",
   "metadata": {},
   "outputs": [],
   "source": [
    "joblib.dump(best_model, \"final_xgb_model.joblib\")\n",
    "joblib.dump(scaler, \"scaler.joblib\")"
   ]
  },
  {
   "cell_type": "markdown",
   "id": "e67c9a05",
   "metadata": {},
   "source": [
    "# 10. ✅ Conclusion\n",
    "\n",
    "\"\"\"\n",
    "The pipeline successfully trained and evaluated an XGBoost classifier for customer churn prediction.\n",
    "The best model was saved and is ready for deployment.\n",
    "\"\"\""
   ]
  },
  {
   "cell_type": "code",
   "execution_count": null,
   "id": "87de73fc",
   "metadata": {},
   "outputs": [],
   "source": [
    "print('✅ Pipeline Completed Successfully.')"
   ]
  }
 ],
 "metadata": {},
 "nbformat": 4,
 "nbformat_minor": 5
}
