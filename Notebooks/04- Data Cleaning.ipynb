{
 "cells": [
  {
   "cell_type": "markdown",
   "id": "e1b2b1b3-9943-4b75-919a-bdd1075e771f",
   "metadata": {},
   "source": [
    "<div style=\"\n",
    "  background: linear-gradient(90deg, #dfeffc, #e6f2ff);\n",
    "  color: #003366;\n",
    "  padding: 20px 30px;\n",
    "  border-radius: 12px;\n",
    "  border-left: 6px solid #0066cc;\n",
    "  border-right: 6px solid #0066cc;\n",
    "  box-shadow: 0 4px 12px rgba(0, 102, 204, 0.15);\n",
    "  text-align: center;\n",
    "  font-weight: bold;\n",
    "  font-family: 'Segoe UI', Tahoma, Geneva, Verdana, sans-serif;\n",
    "  font-size: 35px;\n",
    "  letter-spacing: 1px;\n",
    "  margin: 40px auto 30px auto;\n",
    "  width: fit-content;\n",
    "\">\n",
    "🔹04. 🧹 Data Cleaning:\n",
    "</div>"
   ]
  },
  {
   "cell_type": "markdown",
   "id": "a56f2730-bccd-4950-b4e4-5b256b41a76c",
   "metadata": {},
   "source": [
    "<div style=\"background-color: #e6f2ff; \n",
    "            #border-left: 6px solid #005b96; \n",
    "            padding: 12px 20px; \n",
    "            margin: 20px 0; \n",
    "            border-radius: 10px; \n",
    "            box-shadow: 0 2px 5px rgba(0,0,0,0.1); \n",
    "            font-family: 'Segoe UI', sans-serif; \n",
    "            font-size: 25px; \n",
    "            font-weight: 600; \n",
    "            color: #003366;\">\n",
    "  4.1 📌 Import Libraries:\n",
    "</div>\n"
   ]
  },
  {
   "cell_type": "code",
   "execution_count": 4,
   "id": "6f3faa2e-1a1e-4396-86b7-54c9f27deab4",
   "metadata": {},
   "outputs": [],
   "source": [
    "# ------------------ 1. 📦 Custom Utilities ------------------\n",
    "import MyLibrary as lib  # My custom helper functions (e.g., readfile)\n",
    "\n",
    "# ------------------ 2. 📊 Data Handling ------------------\n",
    "import pandas as pd\n",
    "import numpy as np\n",
    "import os"
   ]
  },
  {
   "cell_type": "markdown",
   "id": "560f69e8-c4e6-4217-895b-ac7595e24aec",
   "metadata": {},
   "source": [
    "<div style=\"background-color: #fff3e0;\n",
    "            #border-left: 5px solid #fb8c00;\n",
    "            margin: 20px 30px;\n",
    "            padding: 16px 24px;\n",
    "            border-radius: 8px;\n",
    "            font-family: 'Segoe UI', sans-serif;\n",
    "            font-size: 18px;\n",
    "            font-weight: 500;\n",
    "            color: #e65100;\">\n",
    "  ✅ <strong>Conclusion:</strong> All essential Python libraries were successfully imported.<br><br>\n",
    "  ▪️ <strong>📦 Custom Utilities:</strong> <code>MyLibrary</code> – Local helper functions (e.g., <code>readfile()</code>)<br>\n",
    "  ▪️ <strong>📊 Data Handling:</strong> <code>pandas</code>, <code>numpy</code>, <code>os</code> – For data structures, operations, and file access<br><br>\n",
    "  These imports form the foundation for loading, manipulating, and accessing dataset files throughout the notebook.\n",
    "</div>"
   ]
  },
  {
   "cell_type": "markdown",
   "id": "4db4718e-a060-47f1-a8ba-c1138d5121db",
   "metadata": {},
   "source": [
    "<div style=\"background-color: #e6f2ff; \n",
    "            #border-left: 6px solid #005b96; \n",
    "            padding: 12px 20px; \n",
    "            margin: 20px 0; \n",
    "            border-radius: 10px; \n",
    "            box-shadow: 0 2px 5px rgba(0,0,0,0.1); \n",
    "            font-family: 'Segoe UI', sans-serif; \n",
    "            font-size: 25px; \n",
    "            font-weight: 600; \n",
    "            color: #003366;\">\n",
    "  4.2 📌 Reading Dataset:\n",
    "</div>\n"
   ]
  },
  {
   "cell_type": "code",
   "execution_count": 7,
   "id": "fc7724c0-9d87-4eae-9ec1-d1cfe88a2b29",
   "metadata": {},
   "outputs": [
    {
     "name": "stdout",
     "output_type": "stream",
     "text": [
      "\n",
      "Dataset of '../Data/bankcustomer.csv' loaded successfully.\n",
      "\n",
      "Dataset Shape is : 10002 rows × 14 columns\n",
      "\n",
      "Dataset Columns are :\n",
      " ['rownumber', 'customerid', 'surname', 'creditscore', 'geography', 'gender', 'age', 'tenure', 'balance', 'numofproducts', 'hascrcard', 'isactivemember', 'estimatedsalary', 'exited'] \n",
      "\n"
     ]
    }
   ],
   "source": [
    "# I Will import function of readfile() from My Local own Library to read any file like csv file, excell file or etc.\n",
    "data = lib.readfile(\"../Data/bankcustomer.csv\")"
   ]
  },
  {
   "cell_type": "markdown",
   "id": "0cfb4ffa-2a13-42f4-a6a8-09498e89eaf8",
   "metadata": {},
   "source": [
    "\n",
    "<div style=\"background-color: #fff3e0;\n",
    "            #border-left: 5px solid #fb8c00;\n",
    "            margin: 20px 30px;\n",
    "            padding: 16px 24px;\n",
    "            border-radius: 8px;\n",
    "            font-family: 'Segoe UI', sans-serif;\n",
    "            font-size: 18px;\n",
    "            font-weight: 500;\n",
    "            color: #e65100;\">\n",
    "  ✅ <strong>Conclusion:</strong> Dataset loaded successfully.<br><br>\n",
    "  ▪️ File path: <code>../Data/bankcustomer.csv</code><br>\n",
    "  ▪️ Dataset shape: <code>10002 rows × 14 columns</code><br>\n",
    "  ▪️ Columns:<br>\n",
    "  <code>\n",
    "  ['rownumber', 'customerid', 'surname', 'creditscore', 'geography', 'gender', 'age', 'tenure',<br>\n",
    "   'balance', 'numofproducts', 'hascrcard', 'isactivemember', 'estimatedsalary', 'exited']\n",
    "  </code>\n",
    "</div>\n"
   ]
  },
  {
   "cell_type": "markdown",
   "id": "e5e5b94a-0f50-4c91-99d9-b6fa008f41da",
   "metadata": {},
   "source": [
    "<div style=\"background-color: #e6f2ff; \n",
    "            #border-left: 6px solid #005b96; \n",
    "            padding: 12px 20px; \n",
    "            margin: 20px 0; \n",
    "            border-radius: 10px; \n",
    "            box-shadow: 0 2px 5px rgba(0,0,0,0.1); \n",
    "            font-family: 'Segoe UI', sans-serif; \n",
    "            font-size: 25px; \n",
    "            font-weight: 600; \n",
    "            color: #003366;\">\n",
    "  4.3 📌 Data Cleaning:\n",
    "</div>\n"
   ]
  },
  {
   "cell_type": "code",
   "execution_count": 10,
   "id": "27219af6-3b42-41fc-b97b-ee371d653461",
   "metadata": {},
   "outputs": [
    {
     "name": "stdout",
     "output_type": "stream",
     "text": [
      "Dataset Report After Cleaning  |  Timestamp: 2025-08-05 23:00:23\n",
      "\n",
      "Original dataset shape: 10002 rows, 14 columns\n",
      "\n",
      "Dropped unnecessary columns: ['rownumber', 'customerid', 'surname']\n",
      "\n",
      "Removed 2 duplicate rows.\n",
      "\n",
      "Dropped 4 rows due to missing values in any column.\n",
      "\n",
      "Outliers: Not specified (kept as is).\n",
      "\n",
      "Changed column 'hascrcard' to type int\n",
      "\n",
      "Changed column 'isactivemember' to type int\n",
      "\n",
      "Cleaned dataset shape: 9996 rows, 11 columns\n",
      "\n",
      "🧮 Rows difference: 6 rows removed during cleaning.\n",
      "🧮 Columns difference: 3 columns removed during cleaning.\n",
      "\n",
      "✅ Cleaned dataset saved to: ../Data\\Cleaned_dataset.csv\n"
     ]
    }
   ],
   "source": [
    "data = lib.DataCleaning(data,\n",
    "    drop_columns={\"rownumber\",\"customerid\",\"surname\"},\n",
    "    duplicated_values=\"drop\", missing_values=\"drop\",\n",
    "    column_types={\"hascrcard\":\"int\",\"isactivemember\":\"int\"},\n",
    "    output_format=\"csv\")"
   ]
  },
  {
   "cell_type": "markdown",
   "id": "2bc1693c-257f-4fa8-9296-ec87e80ef9f4",
   "metadata": {},
   "source": [
    "<div style=\"background-color: #fff3e0;\n",
    "            #border-left: 5px solid #fb8c00;\n",
    "            margin: 20px 30px;\n",
    "            padding: 16px 24px;\n",
    "            border-radius: 8px;\n",
    "            font-family: 'Segoe UI', sans-serif;\n",
    "            font-size: 18px;\n",
    "            font-weight: 500;\n",
    "            color: #e65100;\">\n",
    "  ✅ <strong>Conclusion:</strong> Dataset cleaning completed successfully.<br><br>\n",
    "\n",
    "  ▪️ <strong>Original dataset shape:</strong> <code>10002 rows × 14 columns</code><br>\n",
    "  ▪️ <strong>Cleaned dataset shape:</strong> <code>9996 rows × 11 columns</code><br><br>\n",
    "\n",
    "  ▪️ Dropped unnecessary columns: <code>['rownumber', 'surname', 'customerid']</code><br>\n",
    "  ▪️ Removed <code>2</code> duplicate rows<br>\n",
    "  ▪️ Dropped <code>4</code> rows due to missing values<br>\n",
    "  ▪️ Outliers: <i>Not specified (kept as is)</i><br>\n",
    "  ▪️ Converted column <code>'hascrcard'</code> to <code>int</code><br>\n",
    "  ▪️ Converted column <code>'isactivemember'</code> to <code>int</code><br><br>\n",
    "\n",
    "  🧮 <strong>Rows difference:</strong> 6 rows removed during cleaning<br>\n",
    "  🧮 <strong>Columns difference:</strong> 3 columns removed during cleaning<br><br>\n",
    "\n",
    "  💾 Cleaned dataset saved to: <code>../Data/Cleaned_dataset.csv</code><br>\n",
    "  🕒 Timestamp: <strong>2025-08-04 00:49:41</strong>\n",
    "</div>"
   ]
  },
  {
   "cell_type": "code",
   "execution_count": null,
   "id": "c0c1b22c-ded4-49c4-ae30-511773c2767a",
   "metadata": {},
   "outputs": [],
   "source": []
  }
 ],
 "metadata": {
  "kernelspec": {
   "display_name": "Python [conda env:base] *",
   "language": "python",
   "name": "conda-base-py"
  },
  "language_info": {
   "codemirror_mode": {
    "name": "ipython",
    "version": 3
   },
   "file_extension": ".py",
   "mimetype": "text/x-python",
   "name": "python",
   "nbconvert_exporter": "python",
   "pygments_lexer": "ipython3",
   "version": "3.12.7"
  }
 },
 "nbformat": 4,
 "nbformat_minor": 5
}
